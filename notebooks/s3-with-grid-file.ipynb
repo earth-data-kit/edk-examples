{
 "cells": [
  {
   "cell_type": "code",
   "execution_count": null,
   "metadata": {},
   "outputs": [],
   "source": [
    "# Setting env\n",
    "%env TMP_DIR=/home/ubuntu/tmp\n",
    "%env AWS_REGION=us-west-2\n",
    "%env AWS_NO_SIGN_REQUEST=YES\n",
    "%env GDAL_DISABLE_READDIR_ON_OPEN=EMPTY_DIR\n",
    "%env EDK_MAX_WORKERS=8\n",
    "# %env CPL_DEBUG=TRUE"
   ]
  },
  {
   "cell_type": "code",
   "execution_count": 2,
   "metadata": {},
   "outputs": [],
   "source": [
    "import earth_data_kit as edk\n",
    "import datetime\n",
    "import os\n",
    "from data.country_bounding_boxes import country_bounding_boxes"
   ]
  },
  {
   "cell_type": "code",
   "execution_count": null,
   "metadata": {},
   "outputs": [],
   "source": [
    "edk"
   ]
  },
  {
   "cell_type": "code",
   "execution_count": null,
   "metadata": {},
   "outputs": [],
   "source": [
    "edk.__version__"
   ]
  },
  {
   "cell_type": "code",
   "execution_count": 5,
   "metadata": {},
   "outputs": [],
   "source": [
    "# Initialize the modis dataset using the S3 engine.\n",
    "source = \"s3://modis-pds/MCD43A4.006/{h}/{v}/%Y%j/*_B0?.TIF\"\n",
    "dataset_id = \"modis-pds\"\n",
    "engine = \"s3\"\n",
    "\n",
    "ds = edk.stitching.Dataset(dataset_id, source, engine, clean=True)"
   ]
  },
  {
   "cell_type": "code",
   "execution_count": null,
   "metadata": {},
   "outputs": [],
   "source": [
    "print (ds)"
   ]
  },
  {
   "cell_type": "code",
   "execution_count": 7,
   "metadata": {},
   "outputs": [],
   "source": [
    "# Set the temporal bounds for the dataset (e.g., using January 2017 as an example)\n",
    "start_date = datetime.datetime(2017, 1, 1)\n",
    "end_date = datetime.datetime(2017, 1, 7)\n",
    "ds.set_timebounds(start_date, end_date)"
   ]
  },
  {
   "cell_type": "code",
   "execution_count": 8,
   "metadata": {},
   "outputs": [],
   "source": [
    "# Setting spatial bounds for the dataset\n",
    "\n",
    "# Specify the grid file that maps the dataset's grid system to world coordinates (e.g., a KML file)\n",
    "grid_fp = os.path.join(os.getcwd(), \"data\", \"modis.kml\")\n",
    "\n",
    "# AL stands for Albania, you can change it to any other country. Eg: IN for India\n",
    "bbox = country_bounding_boxes['AL'][1]\n",
    "\n",
    "# Define a function to extract grid components (horizontal 'h' and vertical 'v') from a grid file row.\n",
    "def extract_grid_components(row):\n",
    "    import re\n",
    "    match = re.search(r\"h:(\\d+)\\s+v:(\\d+)\", row.Name)\n",
    "    if match:\n",
    "        return {\"h\": f\"{int(match.group(1)):02d}\", \"v\": f\"{int(match.group(2)):02d}\"}\n",
    "    return {}\n",
    "\n",
    "ds.set_spacebounds(bbox, grid_fp, extract_grid_components)"
   ]
  },
  {
   "cell_type": "code",
   "execution_count": null,
   "metadata": {},
   "outputs": [],
   "source": [
    "print (ds)"
   ]
  },
  {
   "cell_type": "code",
   "execution_count": null,
   "metadata": {},
   "outputs": [],
   "source": [
    "# Running discover to get the bands available in the dataset, you can also set gdal options if needed\n",
    "# ds.set_gdal_options([\"-srcnodata 32767\"])\n",
    "ds.discover()"
   ]
  },
  {
   "cell_type": "code",
   "execution_count": null,
   "metadata": {},
   "outputs": [],
   "source": [
    "# Get the bands discovered in the dataset\n",
    "ds.get_bands()"
   ]
  },
  {
   "cell_type": "code",
   "execution_count": 12,
   "metadata": {},
   "outputs": [],
   "source": [
    "# Stitches the scene files into VRTs using the defined band arrangement.\n",
    "ds.to_vrts(bands=[\"Nadir_Reflectance_Band3\", \"Nadir_Reflectance_Band4\"])"
   ]
  },
  {
   "cell_type": "code",
   "execution_count": 13,
   "metadata": {},
   "outputs": [],
   "source": [
    "ds = edk.stitching.Dataset.from_file(\"/Users/siddhantgupta3/Desktop/Work/project-planet-bench/repos/private/edk/edk-tmp/tmp/modis-pds-albania/modis-pds-albania.json\")"
   ]
  },
  {
   "cell_type": "code",
   "execution_count": 14,
   "metadata": {},
   "outputs": [],
   "source": [
    "# This returns a dataarray with the stitched bands\n",
    "da = ds.to_dataarray()"
   ]
  },
  {
   "cell_type": "code",
   "execution_count": null,
   "metadata": {},
   "outputs": [],
   "source": [
    "da"
   ]
  },
  {
   "cell_type": "code",
   "execution_count": 17,
   "metadata": {},
   "outputs": [
    {
     "data": {
      "text/html": [
       "<div style=\"width:100%;\"><div style=\"position:relative;width:100%;height:0;padding-bottom:60%;\"><span style=\"color:#565656\">Make this Notebook Trusted to load map: File -> Trust Notebook</span><iframe srcdoc=\"&lt;!DOCTYPE html&gt;\n",
       "&lt;html&gt;\n",
       "&lt;head&gt;\n",
       "    \n",
       "    &lt;meta http-equiv=&quot;content-type&quot; content=&quot;text/html; charset=UTF-8&quot; /&gt;\n",
       "    \n",
       "        &lt;script&gt;\n",
       "            L_NO_TOUCH = false;\n",
       "            L_DISABLE_3D = false;\n",
       "        &lt;/script&gt;\n",
       "    \n",
       "    &lt;style&gt;html, body {width: 100%;height: 100%;margin: 0;padding: 0;}&lt;/style&gt;\n",
       "    &lt;style&gt;#map {position:absolute;top:0;bottom:0;right:0;left:0;}&lt;/style&gt;\n",
       "    &lt;script src=&quot;https://cdn.jsdelivr.net/npm/leaflet@1.9.3/dist/leaflet.js&quot;&gt;&lt;/script&gt;\n",
       "    &lt;script src=&quot;https://code.jquery.com/jquery-3.7.1.min.js&quot;&gt;&lt;/script&gt;\n",
       "    &lt;script src=&quot;https://cdn.jsdelivr.net/npm/bootstrap@5.2.2/dist/js/bootstrap.bundle.min.js&quot;&gt;&lt;/script&gt;\n",
       "    &lt;script src=&quot;https://cdnjs.cloudflare.com/ajax/libs/Leaflet.awesome-markers/2.0.2/leaflet.awesome-markers.js&quot;&gt;&lt;/script&gt;\n",
       "    &lt;link rel=&quot;stylesheet&quot; href=&quot;https://cdn.jsdelivr.net/npm/leaflet@1.9.3/dist/leaflet.css&quot;/&gt;\n",
       "    &lt;link rel=&quot;stylesheet&quot; href=&quot;https://cdn.jsdelivr.net/npm/bootstrap@5.2.2/dist/css/bootstrap.min.css&quot;/&gt;\n",
       "    &lt;link rel=&quot;stylesheet&quot; href=&quot;https://netdna.bootstrapcdn.com/bootstrap/3.0.0/css/bootstrap-glyphicons.css&quot;/&gt;\n",
       "    &lt;link rel=&quot;stylesheet&quot; href=&quot;https://cdn.jsdelivr.net/npm/@fortawesome/fontawesome-free@6.2.0/css/all.min.css&quot;/&gt;\n",
       "    &lt;link rel=&quot;stylesheet&quot; href=&quot;https://cdnjs.cloudflare.com/ajax/libs/Leaflet.awesome-markers/2.0.2/leaflet.awesome-markers.css&quot;/&gt;\n",
       "    &lt;link rel=&quot;stylesheet&quot; href=&quot;https://cdn.jsdelivr.net/gh/python-visualization/folium/folium/templates/leaflet.awesome.rotate.min.css&quot;/&gt;\n",
       "    \n",
       "            &lt;meta name=&quot;viewport&quot; content=&quot;width=device-width,\n",
       "                initial-scale=1.0, maximum-scale=1.0, user-scalable=no&quot; /&gt;\n",
       "            &lt;style&gt;\n",
       "                #map_a43ca151ef3e2975b6be4048d60a0c56 {\n",
       "                    position: relative;\n",
       "                    width: 100.0%;\n",
       "                    height: 100.0%;\n",
       "                    left: 0.0%;\n",
       "                    top: 0.0%;\n",
       "                }\n",
       "                .leaflet-container { font-size: 1rem; }\n",
       "            &lt;/style&gt;\n",
       "        \n",
       "    \n",
       "                &lt;style&gt;\n",
       "                    .leaflet-image-layer {\n",
       "                        /* old android/safari*/\n",
       "                        image-rendering: -webkit-optimize-contrast;\n",
       "                        image-rendering: crisp-edges; /* safari */\n",
       "                        image-rendering: pixelated; /* chrome */\n",
       "                        image-rendering: -moz-crisp-edges; /* firefox */\n",
       "                        image-rendering: -o-crisp-edges; /* opera */\n",
       "                        -ms-interpolation-mode: nearest-neighbor; /* ie */\n",
       "                    }\n",
       "                &lt;/style&gt;\n",
       "            \n",
       "&lt;/head&gt;\n",
       "&lt;body&gt;\n",
       "    \n",
       "    \n",
       "            &lt;div class=&quot;folium-map&quot; id=&quot;map_a43ca151ef3e2975b6be4048d60a0c56&quot; &gt;&lt;/div&gt;\n",
       "        \n",
       "&lt;/body&gt;\n",
       "&lt;script&gt;\n",
       "    \n",
       "    \n",
       "            var map_a43ca151ef3e2975b6be4048d60a0c56 = L.map(\n",
       "                &quot;map_a43ca151ef3e2975b6be4048d60a0c56&quot;,\n",
       "                {\n",
       "                    center: [41.15776955467925, 20.162852338101942],\n",
       "                    crs: L.CRS.EPSG3857,\n",
       "                    ...{\n",
       "  &quot;zoom&quot;: 9,\n",
       "  &quot;zoomControl&quot;: true,\n",
       "  &quot;preferCanvas&quot;: false,\n",
       "}\n",
       "\n",
       "                }\n",
       "            );\n",
       "\n",
       "            \n",
       "\n",
       "        \n",
       "    \n",
       "            var tile_layer_4b6aa834a09e9c83ad9829af71a7eebb = L.tileLayer(\n",
       "                &quot;https://tile.openstreetmap.org/{z}/{x}/{y}.png&quot;,\n",
       "                {\n",
       "  &quot;minZoom&quot;: 0,\n",
       "  &quot;maxZoom&quot;: 19,\n",
       "  &quot;maxNativeZoom&quot;: 19,\n",
       "  &quot;noWrap&quot;: false,\n",
       "  &quot;attribution&quot;: &quot;\\u0026copy; \\u003ca href=\\&quot;https://www.openstreetmap.org/copyright\\&quot;\\u003eOpenStreetMap\\u003c/a\\u003e contributors&quot;,\n",
       "  &quot;subdomains&quot;: &quot;abc&quot;,\n",
       "  &quot;detectRetina&quot;: false,\n",
       "  &quot;tms&quot;: false,\n",
       "  &quot;opacity&quot;: 1,\n",
       "}\n",
       "\n",
       "            );\n",
       "        \n",
       "    \n",
       "            tile_layer_4b6aa834a09e9c83ad9829af71a7eebb.addTo(map_a43ca151ef3e2975b6be4048d60a0c56);\n",
       "        \n",
       "    \n",
       "            var image_overlay_7f3b1f9660ec94bc1f1f4d8368253ada = L.imageOverlay(\n",
       "                &quot;data:image/png;base64,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&quot;,\n",
       "                [[39.62434651261787, 19.30339749078683], [42.69119259674062, 21.022307185417052]],\n",
       "                {\n",
       "  &quot;interactive&quot;: true,\n",
       "}\n",
       "            );\n",
       "        \n",
       "    \n",
       "            image_overlay_7f3b1f9660ec94bc1f1f4d8368253ada.addTo(map_a43ca151ef3e2975b6be4048d60a0c56);\n",
       "        \n",
       "    \n",
       "            var layer_control_925adfd9a58f245d58c5375e54103d8e_layers = {\n",
       "                base_layers : {\n",
       "                    &quot;openstreetmap&quot; : tile_layer_4b6aa834a09e9c83ad9829af71a7eebb,\n",
       "                },\n",
       "                overlays :  {\n",
       "                    &quot;macro_element_7f3b1f9660ec94bc1f1f4d8368253ada&quot; : image_overlay_7f3b1f9660ec94bc1f1f4d8368253ada,\n",
       "                },\n",
       "            };\n",
       "            let layer_control_925adfd9a58f245d58c5375e54103d8e = L.control.layers(\n",
       "                layer_control_925adfd9a58f245d58c5375e54103d8e_layers.base_layers,\n",
       "                layer_control_925adfd9a58f245d58c5375e54103d8e_layers.overlays,\n",
       "                {\n",
       "  &quot;position&quot;: &quot;topright&quot;,\n",
       "  &quot;collapsed&quot;: true,\n",
       "  &quot;autoZIndex&quot;: true,\n",
       "}\n",
       "            ).addTo(map_a43ca151ef3e2975b6be4048d60a0c56);\n",
       "\n",
       "        \n",
       "&lt;/script&gt;\n",
       "&lt;/html&gt;\" style=\"position:absolute;width:100%;height:100%;left:0;top:0;border:none !important;\" allowfullscreen webkitallowfullscreen mozallowfullscreen></iframe></div></div>"
      ],
      "text/plain": [
       "<folium.folium.Map at 0x15f35e710>"
      ]
     },
     "execution_count": 17,
     "metadata": {},
     "output_type": "execute_result"
    }
   ],
   "source": [
    "da.sel(time='2017-01-01', band=1).edk.plot()"
   ]
  },
  {
   "cell_type": "code",
   "execution_count": null,
   "metadata": {},
   "outputs": [],
   "source": []
  }
 ],
 "metadata": {
  "kernelspec": {
   "display_name": ".venv",
   "language": "python",
   "name": "python3"
  },
  "language_info": {
   "codemirror_mode": {
    "name": "ipython",
    "version": 3
   },
   "file_extension": ".py",
   "mimetype": "text/x-python",
   "name": "python",
   "nbconvert_exporter": "python",
   "pygments_lexer": "ipython3",
   "version": "3.13.2"
  }
 },
 "nbformat": 4,
 "nbformat_minor": 4
}

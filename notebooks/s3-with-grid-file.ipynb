{
 "cells": [
  {
   "cell_type": "code",
   "execution_count": null,
   "metadata": {},
   "outputs": [],
   "source": [
    "# Setting env\n",
    "%env TMP_DIR=/home/ubuntu/tmp\n",
    "%env AWS_REGION=us-west-2\n",
    "%env AWS_NO_SIGN_REQUEST=YES\n",
    "%env LOG_LEVEL=DEBUG"
   ]
  },
  {
   "cell_type": "code",
   "execution_count": 2,
   "metadata": {},
   "outputs": [],
   "source": [
    "import earth_data_kit as edk\n",
    "import datetime"
   ]
  },
  {
   "cell_type": "code",
   "execution_count": null,
   "metadata": {},
   "outputs": [],
   "source": [
    "edk.__version__"
   ]
  },
  {
   "cell_type": "code",
   "execution_count": 4,
   "metadata": {},
   "outputs": [],
   "source": [
    "# Initialize the modis dataset using the S3 engine.\n",
    "source = \"s3://modis-pds/MCD43A4.006/{h}/{v}/%Y%j/*_B0?.TIF\"\n",
    "dataset_id = \"modis-pds\"\n",
    "engine = \"s3\"\n",
    "\n",
    "ds = edk.stitching.Dataset(dataset_id, source, engine, clean=True)"
   ]
  },
  {
   "cell_type": "code",
   "execution_count": null,
   "metadata": {},
   "outputs": [],
   "source": [
    "print (ds)"
   ]
  },
  {
   "cell_type": "code",
   "execution_count": 6,
   "metadata": {},
   "outputs": [],
   "source": [
    "# Set the temporal bounds for the dataset (e.g., using January 2017 as an example)\n",
    "start_date = datetime.datetime(2017, 1, 1)\n",
    "end_date = datetime.datetime(2017, 1, 7)\n",
    "ds.set_timebounds(start_date, end_date)"
   ]
  },
  {
   "cell_type": "code",
   "execution_count": 7,
   "metadata": {},
   "outputs": [],
   "source": [
    "# Setting spatial bounds for the dataset\n",
    "\n",
    "# Specify the grid file that maps the dataset's grid system to world coordinates (e.g., a KML file)\n",
    "grid_fp = \"/home/ubuntu/notebooks/data/modis.kml\"\n",
    "bbox = (19.3044861183, 39.624997667, 21.0200403175, 42.6882473822)\n",
    "# bbox_india = (68.1766451354, 7.96553477623, 97.4025614766, 35.4940095078)\n",
    "\n",
    "# Define a function to extract grid components (horizontal 'h' and vertical 'v') from a grid file row.\n",
    "def extract_grid_components(row):\n",
    "    import re\n",
    "    match = re.search(r\"h:(\\d+)\\s+v:(\\d+)\", row.Name)\n",
    "    if match:\n",
    "        return {\"h\": f\"{int(match.group(1)):02d}\", \"v\": f\"{int(match.group(2)):02d}\"}\n",
    "    return {}\n",
    "\n",
    "ds.set_spacebounds(bbox, grid_fp, extract_grid_components)"
   ]
  },
  {
   "cell_type": "code",
   "execution_count": null,
   "metadata": {},
   "outputs": [],
   "source": [
    "print (ds)"
   ]
  },
  {
   "cell_type": "code",
   "execution_count": null,
   "metadata": {},
   "outputs": [],
   "source": [
    "# Running discover to get the bands available in the dataset, you can also set gdal options if needed\n",
    "# ds.set_gdal_options([\"-srcnodata 32767\"])\n",
    "ds.discover()"
   ]
  },
  {
   "cell_type": "code",
   "execution_count": null,
   "metadata": {},
   "outputs": [],
   "source": [
    "# Get the bands discovered in the dataset\n",
    "ds.get_bands()"
   ]
  },
  {
   "cell_type": "code",
   "execution_count": null,
   "metadata": {},
   "outputs": [],
   "source": [
    "# Stitches the scene files into VRTs using the defined band arrangement.\n",
    "ds.to_vrts(bands=[\"Nadir_Reflectance_Band3\", \"Nadir_Reflectance_Band4\"])"
   ]
  },
  {
   "cell_type": "code",
   "execution_count": 31,
   "metadata": {},
   "outputs": [],
   "source": [
    "# This returns a dataarray with the stitched bands\n",
    "da = ds.to_dataarray()"
   ]
  },
  {
   "cell_type": "code",
   "execution_count": null,
   "metadata": {},
   "outputs": [],
   "source": [
    "da"
   ]
  },
  {
   "cell_type": "code",
   "execution_count": null,
   "metadata": {},
   "outputs": [],
   "source": [
    "da.edk.plot(time='2017-01-01', band=1)"
   ]
  }
 ],
 "metadata": {
  "kernelspec": {
   "display_name": ".venv",
   "language": "python",
   "name": "python3"
  },
  "language_info": {
   "codemirror_mode": {
    "name": "ipython",
    "version": 3
   },
   "file_extension": ".py",
   "mimetype": "text/x-python",
   "name": "python",
   "nbconvert_exporter": "python",
   "pygments_lexer": "ipython3",
   "version": "3.13.2"
  }
 },
 "nbformat": 4,
 "nbformat_minor": 4
}

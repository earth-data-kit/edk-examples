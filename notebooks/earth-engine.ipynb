{
 "cells": [
  {
   "cell_type": "code",
   "execution_count": null,
   "metadata": {},
   "outputs": [],
   "source": [
    "# Setting env\n",
    "%env TMP_DIR=/home/ubuntu/tmp\n",
    "%env AWS_REGION=us-west-2\n",
    "%env AWS_NO_SIGN_REQUEST=YES\n",
    "%env GDAL_DISABLE_READDIR_ON_OPEN=EMPTY_DIR\n",
    "%env EDK_MAX_WORKERS=8\n",
    "# %env GOOGLE_APPLICATION_CREDENTIALS=<path-to-your-credentials-file>"
   ]
  },
  {
   "cell_type": "code",
   "execution_count": 2,
   "metadata": {},
   "outputs": [],
   "source": [
    "import earth_data_kit as edk\n",
    "import datetime\n",
    "from data.country_bounding_boxes import country_bounding_boxes"
   ]
  },
  {
   "cell_type": "code",
   "execution_count": 3,
   "metadata": {},
   "outputs": [],
   "source": [
    "# Initialize the dataset using the Earth Engine.\n",
    "source = \"NOAA/CDR/SST_WHOI/V2\"\n",
    "dataset_id = \"sea_surface_temperature\"\n",
    "engine = \"earth_engine\"\n",
    "\n",
    "ds = edk.stitching.Dataset(dataset_id, source, engine, clean=True)"
   ]
  },
  {
   "cell_type": "code",
   "execution_count": null,
   "metadata": {},
   "outputs": [],
   "source": [
    "print (ds)"
   ]
  },
  {
   "cell_type": "code",
   "execution_count": 5,
   "metadata": {},
   "outputs": [],
   "source": [
    "# Set the time bounds for the dataset.\n",
    "start_date = datetime.datetime(2020, 1, 1)\n",
    "end_date = datetime.datetime(2020, 1, 31)\n",
    "\n",
    "ds.set_timebounds(start_date, end_date)"
   ]
  },
  {
   "cell_type": "code",
   "execution_count": 6,
   "metadata": {},
   "outputs": [],
   "source": [
    "# Setting spatial bounds for the dataset\n",
    "# AL stands for Albania, you can change it to any other country. Eg: IN for India\n",
    "bbox = country_bounding_boxes['IN'][1]\n",
    "\n",
    "ds.set_spacebounds(bbox)"
   ]
  },
  {
   "cell_type": "code",
   "execution_count": null,
   "metadata": {},
   "outputs": [],
   "source": [
    "print (ds)"
   ]
  },
  {
   "cell_type": "code",
   "execution_count": null,
   "metadata": {},
   "outputs": [],
   "source": [
    "# Running discover to get the bands available in the dataset, you can also set gdal options if needed\n",
    "# ds.set_src_options({\"-srcnodata\": [-1, -1]})\n",
    "ds.discover()"
   ]
  },
  {
   "cell_type": "code",
   "execution_count": 9,
   "metadata": {},
   "outputs": [],
   "source": [
    "bands = ds.get_bands()"
   ]
  },
  {
   "cell_type": "code",
   "execution_count": null,
   "metadata": {},
   "outputs": [],
   "source": [
    "# Get the bands discovered in the dataset\n",
    "bands"
   ]
  },
  {
   "cell_type": "code",
   "execution_count": null,
   "metadata": {},
   "outputs": [],
   "source": [
    "# Stitches the scene files into VRTs using the defined band arrangement.\n",
    "ds.mosaic(bands=[\"sea_surface_temperature\"])"
   ]
  },
  {
   "cell_type": "code",
   "execution_count": 12,
   "metadata": {},
   "outputs": [],
   "source": [
    "ds.save()"
   ]
  },
  {
   "cell_type": "code",
   "execution_count": 13,
   "metadata": {},
   "outputs": [],
   "source": [
    "# This returns a dataarray with the stitched bands\n",
    "da = ds.to_dataarray()"
   ]
  },
  {
   "cell_type": "code",
   "execution_count": null,
   "metadata": {},
   "outputs": [],
   "source": [
    "da.isel(time=0, band=0).edk.plot()"
   ]
  },
  {
   "cell_type": "code",
   "execution_count": null,
   "metadata": {},
   "outputs": [],
   "source": []
  }
 ],
 "metadata": {
  "kernelspec": {
   "display_name": ".venv",
   "language": "python",
   "name": "python3"
  },
  "language_info": {
   "codemirror_mode": {
    "name": "ipython",
    "version": 3
   },
   "file_extension": ".py",
   "mimetype": "text/x-python",
   "name": "python",
   "nbconvert_exporter": "python",
   "pygments_lexer": "ipython3",
   "version": "3.13.2"
  }
 },
 "nbformat": 4,
 "nbformat_minor": 4
}
